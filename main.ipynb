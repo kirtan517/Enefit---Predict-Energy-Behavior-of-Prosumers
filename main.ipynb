{
 "cells": [
  {
   "cell_type": "code",
   "execution_count": 15,
   "id": "9c643be9-6f5e-4fc9-a182-fb8cf9385b63",
   "metadata": {},
   "outputs": [],
   "source": [
    "# import libraries\n",
    "import os\n",
    "import pandas as pd\n",
    "import numpy as np\n",
    "import matplotlib.pyplot as plt \n",
    "import lightgbm as lbg\n",
    "from tqdm import tqdm\n",
    "import polars as pl\n",
    "import json"
   ]
  },
  {
   "cell_type": "code",
   "execution_count": 11,
   "id": "8d4becbf-aefd-4d90-9cfd-5803bbd3fddd",
   "metadata": {},
   "outputs": [],
   "source": [
    "class Config():\n",
    "\n",
    "    ROOT = os.path.join(\"predict-energy-behavior-of-prosumers\")\n",
    "    \n",
    "\n",
    "    # country id mapping\n",
    "    COUNTRY_ID_TO_NAME_MAP_DIR = os.path.join(ROOT,\"county_id_to_name_map.json\")\n",
    "    with open(COUNTRY_ID_TO_NAME_MAP_DIR,'r') as country_id_to_name:\n",
    "        COUNTRY_ID_TO_NAME = json.load(country_id_to_name)\n",
    "\n",
    "    # paths of all the files for the training \n",
    "    TRAIN_CLIENT = os.path.join(ROOT,\"client.csv\")\n",
    "    TRAIN_ELECTRICITY_PRICES = os.path.join(ROOT,\"electricity_prices.csv\")\n",
    "    TRAIN_FORCAST_WEATHER = os.path.join(ROOT,\"forcast_weather.csv\")\n",
    "    TRAIN_GAS_PRICES = os.path.join(ROOT,\"gas_prices.csv\")\n",
    "    TRAIN_HISTORICAL_WEATHER = os.path.join(ROOT,\"historical_weather.csv\")\n",
    "    TRAIN_TRAIN = os.path.join(ROOT, \"train.csv\")\n",
    "    TRAIN_WEATHER_STATION_TO_COUNTRY_MAPPING = os.path.join(ROOT,\"weather_station_to_country_mapping.csv\")\n",
    "\n",
    "    # paths of all the files for the testing\n",
    "    TEST_CLIENT = os.path.join(ROOT,\"example_test_files\",\"client.csv\")\n",
    "    TEST_ELECTRICITY_PRICES = os.path.join(ROOT,\"example_test_files\",\"electricity_prices.csv\")\n",
    "    TEST_FORCAST_WEATHER = os.path.join(ROOT,\"example_test_files\",\"forcast_weather.csv\")\n",
    "    TEST_GAS_PRICES = os.path.join(ROOT,\"example_test_files\",\"gas_prices.csv\")\n",
    "    TEST_HISTORICAL_WEATHER = os.path.join(ROOT,\"example_test_files\",\"historical_weather.csv\")\n",
    "    TEST_TRAIN = os.path.join(ROOT,\"example_test_files\", \"train.csv\")\n",
    "    TEST_WEATHER_STATION_TO_COUNTRY_MAPPING = os.path.join(ROOT,\"example_test_files\",\"weather_station_to_country_mapping.csv\")"
   ]
  },
  {
   "cell_type": "code",
   "execution_count": 13,
   "id": "bb8c1e00-82fc-4f23-91d8-97195eddc358",
   "metadata": {},
   "outputs": [],
   "source": [
    "# DataStorage class will be injected into the feature engineering class \n",
    "# This will create a lot of memory instead create the data storage class and add wrapers arround it \n",
    "# just like adding decorators to the class so as to     "
   ]
  },
  {
   "cell_type": "code",
   "execution_count": 19,
   "id": "b5c20736-2ac4-4a5c-87b4-5120f361bb4f",
   "metadata": {},
   "outputs": [],
   "source": [
    "class DataStorage:\n",
    "\n",
    "    def __init__(self):\n",
    "        # loading all the data \n",
    "        self.train_df_data = pl.read_csv(Config.TRAIN_TRAIN,try_parse_dates = True)\n",
    "        \n",
    "        "
   ]
  },
  {
   "cell_type": "code",
   "execution_count": 20,
   "id": "48b8c8f6-a61e-4484-9b7e-80754fa4c032",
   "metadata": {},
   "outputs": [],
   "source": [
    "data_storage = DataStorage()"
   ]
  },
  {
   "cell_type": "code",
   "execution_count": 21,
   "id": "1f85404a-d157-449e-9912-4ed9b1816254",
   "metadata": {},
   "outputs": [
    {
     "data": {
      "text/html": [
       "<div><style>\n",
       ".dataframe > thead > tr,\n",
       ".dataframe > tbody > tr {\n",
       "  text-align: right;\n",
       "  white-space: pre-wrap;\n",
       "}\n",
       "</style>\n",
       "<small>shape: (2_018_352, 9)</small><table border=\"1\" class=\"dataframe\"><thead><tr><th>county</th><th>is_business</th><th>product_type</th><th>target</th><th>is_consumption</th><th>datetime</th><th>data_block_id</th><th>row_id</th><th>prediction_unit_id</th></tr><tr><td>i64</td><td>i64</td><td>i64</td><td>f64</td><td>i64</td><td>datetime[μs]</td><td>i64</td><td>i64</td><td>i64</td></tr></thead><tbody><tr><td>0</td><td>0</td><td>1</td><td>0.713</td><td>0</td><td>2021-09-01 00:00:00</td><td>0</td><td>0</td><td>0</td></tr><tr><td>0</td><td>0</td><td>1</td><td>96.59</td><td>1</td><td>2021-09-01 00:00:00</td><td>0</td><td>1</td><td>0</td></tr><tr><td>0</td><td>0</td><td>2</td><td>0.0</td><td>0</td><td>2021-09-01 00:00:00</td><td>0</td><td>2</td><td>1</td></tr><tr><td>0</td><td>0</td><td>2</td><td>17.314</td><td>1</td><td>2021-09-01 00:00:00</td><td>0</td><td>3</td><td>1</td></tr><tr><td>0</td><td>0</td><td>3</td><td>2.904</td><td>0</td><td>2021-09-01 00:00:00</td><td>0</td><td>4</td><td>2</td></tr><tr><td>0</td><td>0</td><td>3</td><td>656.859</td><td>1</td><td>2021-09-01 00:00:00</td><td>0</td><td>5</td><td>2</td></tr><tr><td>0</td><td>1</td><td>0</td><td>0.0</td><td>0</td><td>2021-09-01 00:00:00</td><td>0</td><td>6</td><td>3</td></tr><tr><td>0</td><td>1</td><td>0</td><td>59.0</td><td>1</td><td>2021-09-01 00:00:00</td><td>0</td><td>7</td><td>3</td></tr><tr><td>0</td><td>1</td><td>1</td><td>0.0</td><td>0</td><td>2021-09-01 00:00:00</td><td>0</td><td>8</td><td>4</td></tr><tr><td>0</td><td>1</td><td>1</td><td>501.76</td><td>1</td><td>2021-09-01 00:00:00</td><td>0</td><td>9</td><td>4</td></tr><tr><td>0</td><td>1</td><td>3</td><td>0.315</td><td>0</td><td>2021-09-01 00:00:00</td><td>0</td><td>10</td><td>5</td></tr><tr><td>0</td><td>1</td><td>3</td><td>5155.056</td><td>1</td><td>2021-09-01 00:00:00</td><td>0</td><td>11</td><td>5</td></tr><tr><td>&hellip;</td><td>&hellip;</td><td>&hellip;</td><td>&hellip;</td><td>&hellip;</td><td>&hellip;</td><td>&hellip;</td><td>&hellip;</td><td>&hellip;</td></tr><tr><td>14</td><td>1</td><td>3</td><td>1.159</td><td>0</td><td>2023-05-31 23:00:00</td><td>637</td><td>2018340</td><td>56</td></tr><tr><td>14</td><td>1</td><td>3</td><td>1242.6</td><td>1</td><td>2023-05-31 23:00:00</td><td>637</td><td>2018341</td><td>56</td></tr><tr><td>15</td><td>0</td><td>1</td><td>0.004</td><td>0</td><td>2023-05-31 23:00:00</td><td>637</td><td>2018342</td><td>57</td></tr><tr><td>15</td><td>0</td><td>1</td><td>42.401</td><td>1</td><td>2023-05-31 23:00:00</td><td>637</td><td>2018343</td><td>57</td></tr><tr><td>15</td><td>0</td><td>3</td><td>2.287</td><td>0</td><td>2023-05-31 23:00:00</td><td>637</td><td>2018344</td><td>58</td></tr><tr><td>15</td><td>0</td><td>3</td><td>117.332</td><td>1</td><td>2023-05-31 23:00:00</td><td>637</td><td>2018345</td><td>58</td></tr><tr><td>15</td><td>1</td><td>0</td><td>0.0</td><td>0</td><td>2023-05-31 23:00:00</td><td>637</td><td>2018346</td><td>64</td></tr><tr><td>15</td><td>1</td><td>0</td><td>197.233</td><td>1</td><td>2023-05-31 23:00:00</td><td>637</td><td>2018347</td><td>64</td></tr><tr><td>15</td><td>1</td><td>1</td><td>0.0</td><td>0</td><td>2023-05-31 23:00:00</td><td>637</td><td>2018348</td><td>59</td></tr><tr><td>15</td><td>1</td><td>1</td><td>28.404</td><td>1</td><td>2023-05-31 23:00:00</td><td>637</td><td>2018349</td><td>59</td></tr><tr><td>15</td><td>1</td><td>3</td><td>0.0</td><td>0</td><td>2023-05-31 23:00:00</td><td>637</td><td>2018350</td><td>60</td></tr><tr><td>15</td><td>1</td><td>3</td><td>196.24</td><td>1</td><td>2023-05-31 23:00:00</td><td>637</td><td>2018351</td><td>60</td></tr></tbody></table></div>"
      ],
      "text/plain": [
       "shape: (2_018_352, 9)\n",
       "┌────────┬─────────────┬─────────────┬────────┬───┬────────────┬────────────┬─────────┬────────────┐\n",
       "│ county ┆ is_business ┆ product_typ ┆ target ┆ … ┆ datetime   ┆ data_block ┆ row_id  ┆ prediction │\n",
       "│ ---    ┆ ---         ┆ e           ┆ ---    ┆   ┆ ---        ┆ _id        ┆ ---     ┆ _unit_id   │\n",
       "│ i64    ┆ i64         ┆ ---         ┆ f64    ┆   ┆ datetime[μ ┆ ---        ┆ i64     ┆ ---        │\n",
       "│        ┆             ┆ i64         ┆        ┆   ┆ s]         ┆ i64        ┆         ┆ i64        │\n",
       "╞════════╪═════════════╪═════════════╪════════╪═══╪════════════╪════════════╪═════════╪════════════╡\n",
       "│ 0      ┆ 0           ┆ 1           ┆ 0.713  ┆ … ┆ 2021-09-01 ┆ 0          ┆ 0       ┆ 0          │\n",
       "│        ┆             ┆             ┆        ┆   ┆ 00:00:00   ┆            ┆         ┆            │\n",
       "│ 0      ┆ 0           ┆ 1           ┆ 96.59  ┆ … ┆ 2021-09-01 ┆ 0          ┆ 1       ┆ 0          │\n",
       "│        ┆             ┆             ┆        ┆   ┆ 00:00:00   ┆            ┆         ┆            │\n",
       "│ 0      ┆ 0           ┆ 2           ┆ 0.0    ┆ … ┆ 2021-09-01 ┆ 0          ┆ 2       ┆ 1          │\n",
       "│        ┆             ┆             ┆        ┆   ┆ 00:00:00   ┆            ┆         ┆            │\n",
       "│ 0      ┆ 0           ┆ 2           ┆ 17.314 ┆ … ┆ 2021-09-01 ┆ 0          ┆ 3       ┆ 1          │\n",
       "│        ┆             ┆             ┆        ┆   ┆ 00:00:00   ┆            ┆         ┆            │\n",
       "│ …      ┆ …           ┆ …           ┆ …      ┆ … ┆ …          ┆ …          ┆ …       ┆ …          │\n",
       "│ 15     ┆ 1           ┆ 1           ┆ 0.0    ┆ … ┆ 2023-05-31 ┆ 637        ┆ 2018348 ┆ 59         │\n",
       "│        ┆             ┆             ┆        ┆   ┆ 23:00:00   ┆            ┆         ┆            │\n",
       "│ 15     ┆ 1           ┆ 1           ┆ 28.404 ┆ … ┆ 2023-05-31 ┆ 637        ┆ 2018349 ┆ 59         │\n",
       "│        ┆             ┆             ┆        ┆   ┆ 23:00:00   ┆            ┆         ┆            │\n",
       "│ 15     ┆ 1           ┆ 3           ┆ 0.0    ┆ … ┆ 2023-05-31 ┆ 637        ┆ 2018350 ┆ 60         │\n",
       "│        ┆             ┆             ┆        ┆   ┆ 23:00:00   ┆            ┆         ┆            │\n",
       "│ 15     ┆ 1           ┆ 3           ┆ 196.24 ┆ … ┆ 2023-05-31 ┆ 637        ┆ 2018351 ┆ 60         │\n",
       "│        ┆             ┆             ┆        ┆   ┆ 23:00:00   ┆            ┆         ┆            │\n",
       "└────────┴─────────────┴─────────────┴────────┴───┴────────────┴────────────┴─────────┴────────────┘"
      ]
     },
     "execution_count": 21,
     "metadata": {},
     "output_type": "execute_result"
    }
   ],
   "source": [
    "data_storage.df_data"
   ]
  },
  {
   "cell_type": "code",
   "execution_count": null,
   "id": "9ce28563-ff07-422d-8e52-07c3fb424413",
   "metadata": {},
   "outputs": [],
   "source": []
  }
 ],
 "metadata": {
  "kernelspec": {
   "display_name": "Python 3 (ipykernel)",
   "language": "python",
   "name": "python3"
  },
  "language_info": {
   "codemirror_mode": {
    "name": "ipython",
    "version": 3
   },
   "file_extension": ".py",
   "mimetype": "text/x-python",
   "name": "python",
   "nbconvert_exporter": "python",
   "pygments_lexer": "ipython3",
   "version": "3.11.5"
  }
 },
 "nbformat": 4,
 "nbformat_minor": 5
}
