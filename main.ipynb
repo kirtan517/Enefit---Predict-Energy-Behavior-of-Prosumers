{
 "cells": [
  {
   "cell_type": "code",
   "execution_count": 1,
   "id": "9c643be9-6f5e-4fc9-a182-fb8cf9385b63",
   "metadata": {},
   "outputs": [],
   "source": [
    "# import libraries\n",
    "import os\n",
    "import pandas as pd\n",
    "import numpy as np\n",
    "import matplotlib.pyplot as plt \n",
    "import lightgbm as lbg\n",
    "from tqdm import tqdm\n",
    "import polars as pl\n",
    "import json\n",
    "from abc import ABC, abstractmethod\n",
    "\n",
    "from sklearn.ensemble import VotingRegressor\n",
    "import lightgbm as lgb"
   ]
  },
  {
   "cell_type": "code",
   "execution_count": 2,
   "id": "8d4becbf-aefd-4d90-9cfd-5803bbd3fddd",
   "metadata": {},
   "outputs": [],
   "source": [
    "class Config():\n",
    "\n",
    "    ROOT = os.path.join(\"predict-energy-behavior-of-prosumers\")\n",
    "    \n",
    "\n",
    "    # country id mapping\n",
    "    COUNTRY_ID_TO_NAME_MAP_DIR = os.path.join(ROOT,\"county_id_to_name_map.json\")\n",
    "    with open(COUNTRY_ID_TO_NAME_MAP_DIR,'r') as country_id_to_name:\n",
    "        COUNTRY_ID_TO_NAME = json.load(country_id_to_name)\n",
    "\n",
    "    # loading the weather station to country mapping \n",
    "    WEATHER_STATION_TO_COUNTRY_MAPPING_DIR = os.path.join(ROOT,\"weather_station_to_county_mapping.csv\")\n",
    "    WEATHER_STATION_TO_COUNTRY_MAPPING = pd.read_csv(WEATHER_STATION_TO_COUNTRY_MAPPING_DIR)\n",
    "    # Preprocess the Weather station mapping as the unknown mapping is 12 and give the name unknown\n",
    "    WEATHER_STATION_TO_COUNTRY_MAPPING.fillna({\"county_name\":\"UNKNOWN\",\"county\":12},inplace = True)\n",
    "    WEATHER_STATION_TO_COUNTRY_MAPPING = pl.from_pandas(WEATHER_STATION_TO_COUNTRY_MAPPING)\n",
    "    \n",
    "\n",
    "    \n",
    "    # paths of all the files for the training \n",
    "    TRAIN_CLIENT = os.path.join(ROOT,\"client.csv\")\n",
    "    TRAIN_ELECTRICITY_PRICES = os.path.join(ROOT,\"electricity_prices.csv\")\n",
    "    TRAIN_FORCAST_WEATHER = os.path.join(ROOT,\"forecast_weather.csv\")\n",
    "    TRAIN_GAS_PRICES = os.path.join(ROOT,\"gas_prices.csv\")\n",
    "    TRAIN_HISTORICAL_WEATHER = os.path.join(ROOT,\"historical_weather.csv\")\n",
    "    TRAIN_TRAIN = os.path.join(ROOT, \"train.csv\")\n",
    "    TRAIN_WEATHER_STATION_TO_COUNTRY_MAPPING = os.path.join(ROOT,\"weather_station_to_country_mapping.csv\")\n",
    "\n",
    "    # paths of all the files for the testing\n",
    "    TEST_CLIENT = os.path.join(ROOT,\"example_test_files\",\"client.csv\")\n",
    "    TEST_ELECTRICITY_PRICES = os.path.join(ROOT,\"example_test_files\",\"electricity_prices.csv\")\n",
    "    TEST_FORCAST_WEATHER = os.path.join(ROOT,\"example_test_files\",\"forecast_weather.csv\")\n",
    "    TEST_GAS_PRICES = os.path.join(ROOT,\"example_test_files\",\"gas_prices.csv\")\n",
    "    TEST_HISTORICAL_WEATHER = os.path.join(ROOT,\"example_test_files\",\"historical_weather.csv\")\n",
    "    TEST_TEST = os.path.join(ROOT,\"example_test_files\", \"test.csv\")\n",
    "    TEST_WEATHER_STATION_TO_COUNTRY_MAPPING = os.path.join(ROOT,\"example_test_files\",\"weather_station_to_country_mapping.csv\")\n",
    "\n"
   ]
  },
  {
   "cell_type": "code",
   "execution_count": 3,
   "id": "bb8c1e00-82fc-4f23-91d8-97195eddc358",
   "metadata": {},
   "outputs": [],
   "source": [
    "# DataStorage class will be injected into the feature engineering class \n",
    "# This will create a lot of memory instead create the data storage class and add wrapers arround it \n",
    "# just like adding decorators to the class so as to     "
   ]
  },
  {
   "cell_type": "code",
   "execution_count": 4,
   "id": "b5c20736-2ac4-4a5c-87b4-5120f361bb4f",
   "metadata": {},
   "outputs": [],
   "source": [
    "class DataStorage:\n",
    "\n",
    "    def __init__(self):\n",
    "        # loading all the training data \n",
    "        self.train_df_data = pl.read_csv(Config.TRAIN_TRAIN,try_parse_dates = True)\n",
    "        self.train_df_client = pl.read_csv(Config.TRAIN_CLIENT,try_parse_dates = True)\n",
    "        self.train_df_electricity_prices = pl.read_csv(Config.TRAIN_ELECTRICITY_PRICES,try_parse_dates = True)\n",
    "        self.train_df_forcast_weather = pl.read_csv(Config.TRAIN_FORCAST_WEATHER,try_parse_dates = True)\n",
    "        self.train_df_gas_prices = pl.read_csv(Config.TRAIN_GAS_PRICES,try_parse_dates = True)\n",
    "        self.train_df_historical_weather = pl.read_csv(Config.TRAIN_HISTORICAL_WEATHER,try_parse_dates = True)\n",
    "\n",
    "        # loading all the testing data \n",
    "        self.test_df_data = pl.read_csv(Config.TEST_TEST,try_parse_dates = True)\n",
    "        self.test_df_client = pl.read_csv(Config.TEST_CLIENT,try_parse_dates = True)\n",
    "        self.test_df_electricity_prices = pl.read_csv(Config.TEST_ELECTRICITY_PRICES,try_parse_dates = True)\n",
    "        self.test_df_forcast_weather = pl.read_csv(Config.TEST_FORCAST_WEATHER,try_parse_dates = True)\n",
    "        self.test_df_gas_prices = pl.read_csv(Config.TEST_GAS_PRICES,try_parse_dates = True)\n",
    "        self.test_df_historical_weather = pl.read_csv(Config.TEST_HISTORICAL_WEATHER,try_parse_dates = True)\n",
    "        "
   ]
  },
  {
   "cell_type": "code",
   "execution_count": 5,
   "id": "e6cead35-3497-42b1-a305-5b94da7caaeb",
   "metadata": {},
   "outputs": [],
   "source": [
    "# the base class which is used in the decorator design pattern\n",
    "class AddFeatures(ABC):\n",
    "    \n",
    "    @abstractmethod\n",
    "    def addFeature(self,df):\n",
    "        # Here add some of the feature to the df and pass the df along \n",
    "        if df is None:\n",
    "            raise ValueError(\"This features should not be first to be added\")\n",
    "        pass\n",
    "\n",
    "    def cleanUp(self):\n",
    "        pass"
   ]
  },
  {
   "cell_type": "code",
   "execution_count": 6,
   "id": "70f4c520-ca22-4306-9dbb-819d5d8ee9bb",
   "metadata": {},
   "outputs": [],
   "source": [
    "# add general features \n",
    "class AddGeneralFeatures(AddFeatures):\n",
    "\n",
    "    def __init__(self,df):\n",
    "        self.df = df\n",
    "        \n",
    "\n",
    "    def addFeature(self,df = None):\n",
    "        # Adding basic features such as hours,day, weekday etc\n",
    "        self.df = self.df.with_columns(\n",
    "            pl.col(\"datetime\").dt.hour().alias(\"hour\"),\n",
    "            pl.col(\"datetime\").dt.day().alias(\"day\"),\n",
    "            pl.col(\"datetime\").dt.weekday().alias(\"weekday\"),\n",
    "            pl.col(\"datetime\").dt.month().alias(\"month\"),\n",
    "            pl.col(\"datetime\").dt.year().alias(\"year\"),\n",
    "            pl.col(\"datetime\").dt.ordinal_day().alias(\"dayofyear\"),\n",
    "            pl.col(\"datetime\").dt.date().alias(\"date\")\n",
    "        )\n",
    "\n",
    "        # drop data_block_id \n",
    "        self.df = self.df.drop([\"data_block_id\"])\n",
    "\n",
    "        # print(f\"After the {self.__class__.__name__} {self.df.shape}\")\n",
    "        \n",
    "        \n",
    "        if df is None: \n",
    "            return self.df\n",
    "        # perform the join operation\n",
    "        \n",
    "        raise ValueError(\"First features should be General Features\")\n",
    "          "
   ]
  },
  {
   "cell_type": "code",
   "execution_count": 7,
   "id": "57abe578-7211-4420-91de-8ad3356f7a40",
   "metadata": {},
   "outputs": [],
   "source": [
    "class AddClientFeatures(AddFeatures):\n",
    "\n",
    "    def __init__(self,df):\n",
    "        self.df = df\n",
    "\n",
    "    def addFeature(self,df = None):\n",
    "        # just combine the dataframe based on the country , is_business, date and product type \n",
    "        # perform left join \n",
    "        super().addFeature(df)\n",
    "\n",
    "        #drop data_block_id\n",
    "        self.df = self.df.drop([\"data_block_id\"])\n",
    "        \n",
    "        df = df.join(\n",
    "            self.df,\n",
    "            on = [\"county\",\"is_business\",\"date\",\"product_type\"],\n",
    "            how = \"left\",\n",
    "        )\n",
    "\n",
    "        # print(f\"After the {self.__class__.__name__} {df.shape}\")        \n",
    "        return df"
   ]
  },
  {
   "cell_type": "code",
   "execution_count": 8,
   "id": "89e089e8-e7af-41e1-8d90-65071402b662",
   "metadata": {},
   "outputs": [],
   "source": [
    "class AddElectricityPricesFeatures(AddFeatures):\n",
    "\n",
    "    def __init__(self,df):\n",
    "        self.df = df\n",
    "\n",
    "    def addFeature(self,df = None):\n",
    "        # just combine the dataframe based on the \n",
    "        super().addFeature(df)\n",
    "\n",
    "        # TODO: Right now not adding this features \n",
    "        # print(f\"After the {self.__class__.__name__} {df.shape}\")\n",
    "\n",
    "        return df"
   ]
  },
  {
   "cell_type": "code",
   "execution_count": 9,
   "id": "f659906e-fb4c-4dba-9884-8457309c9b29",
   "metadata": {},
   "outputs": [],
   "source": [
    "class AddForecastWeatherFeatures(AddFeatures):\n",
    "\n",
    "    def __init__(self,df):\n",
    "        self.df = df\n",
    "\n",
    "    def addFeature(self,df = None):\n",
    "        # just combine the dataframe based on the \n",
    "        super().addFeature(df)\n",
    "        # adding the country column\n",
    "        self.df = self.df.join(\n",
    "            Config.WEATHER_STATION_TO_COUNTRY_MAPPING,\n",
    "            on = [\"latitude\",\"longitude\"],\n",
    "            how = \"left\",\n",
    "        )\n",
    "\n",
    "        # Droping the latitude and longitude columns \n",
    "        self.df = self.df.drop([\"latitude\",\"longitude\",\"data_block_id\",\"county_name\",\"origin_datetime\"])\n",
    "\n",
    "        # Change the name of the forecast_datetime to datetime\n",
    "        self.df = self.df.rename({\"forecast_datetime\":\"datetime\"})\n",
    "\n",
    "        # Perform aggreagation \n",
    "        # TODO: right now taking the mean of according to the datetime and the country \n",
    "        # TODO: try different different techniques such as expontential smotthing and the houter winters \n",
    "\n",
    "        self.df = self.df.group_by([\"county\",\"datetime\"]).mean()\n",
    "\n",
    "        # convert the cast of country to int64\n",
    "        self.df = self.df.with_columns(\n",
    "            pl.col(\"county\").cast(pl.Int64).alias(\"county\"),\n",
    "        )\n",
    "    \n",
    "        # Perform join based on the datetime,country and data_block_id with the original dataset    \n",
    "        df = df.join(\n",
    "            self.df,\n",
    "            on = [\"county\",\"datetime\"],\n",
    "            how = \"left\",\n",
    "        )\n",
    "        \n",
    "        # print(f\"After the {self.__class__.__name__} {df.shape}\")\n",
    "    \n",
    "        return df"
   ]
  },
  {
   "cell_type": "code",
   "execution_count": 10,
   "id": "4a5ec3c6-70b0-4684-945f-8358957e6039",
   "metadata": {},
   "outputs": [],
   "source": [
    "class AddHistoricalWeatherFeatures(AddFeatures):\n",
    "\n",
    "    def __init__(self,df):\n",
    "        self.df = df\n",
    "\n",
    "    def addFeature(self,df = None):\n",
    "        # just combine the dataframe based on the \n",
    "        super().addFeature(df)\n",
    "        # adding the country column\n",
    "        self.df = self.df.join(\n",
    "            Config.WEATHER_STATION_TO_COUNTRY_MAPPING,\n",
    "            on = [\"latitude\",\"longitude\"],\n",
    "            how = \"left\",\n",
    "        )\n",
    "\n",
    "        # Droping the latitude,longitude and data_block_id columns \n",
    "        self.df = self.df.drop([\"latitude\",\"longitude\",\"data_block_id\",\"county_name\"])\n",
    "\n",
    "        self.df = self.df.with_columns(\n",
    "            pl.col(\"county\").cast(pl.Int64).alias(\"county\"),\n",
    "        )\n",
    "\n",
    "        self.df = self.df.group_by([\"county\",\"datetime\"]).mean()\n",
    "    \n",
    "        # Perform join based on the datetime,country and data_block_id with the original dataset    \n",
    "        df = df.join(\n",
    "            self.df,\n",
    "            on = [\"county\",\"datetime\"],\n",
    "            how = \"left\",\n",
    "            suffix = f\"_historical\"\n",
    "        )\n",
    "\n",
    "        # print(f\"After the {self.__class__.__name__} {df.shape}\")\n",
    "        return df"
   ]
  },
  {
   "cell_type": "code",
   "execution_count": 11,
   "id": "28cb2868-783b-4426-a3ad-2f6440238698",
   "metadata": {},
   "outputs": [],
   "source": [
    "class AddGasPricesFeatures(AddFeatures):\n",
    "\n",
    "    def __init__(self,df):\n",
    "        self.df = df\n",
    "\n",
    "    def addFeature(self,df = None):\n",
    "        # just combine the dataframe based on the \n",
    "        super().addFeature(df)\n",
    "\n",
    "        # TODO: Right now not adding this features \n",
    "        # print(f\"After the {self.__class__.__name__} {df.shape}\")\n",
    "\n",
    "        return df"
   ]
  },
  {
   "cell_type": "code",
   "execution_count": 12,
   "id": "7b791a19-cdcb-4dfb-ba62-aef9b63d9bca",
   "metadata": {},
   "outputs": [],
   "source": [
    "class AddFeatureManager():\n",
    "\n",
    "    def __init__(self,dataStorage : DataStorage):\n",
    "        self.addGeneralFeatures = AddGeneralFeatures(dataStorage.train_df_data)\n",
    "        self.addClientFeatures = AddClientFeatures(dataStorage.train_df_client)\n",
    "        self.addElectricityPricesFeatures = AddElectricityPricesFeatures(dataStorage.train_df_electricity_prices)\n",
    "        self.addForcastWeatherFeatures = AddForecastWeatherFeatures(dataStorage.train_df_forcast_weather)\n",
    "        self.addHistoricalWeatherFeatures = AddHistoricalWeatherFeatures(dataStorage.train_df_historical_weather)\n",
    "        self.addGasPricesFeatures = AddGasPricesFeatures(dataStorage.train_df_gas_prices)\n",
    "        \n",
    "        self.df = None\n",
    "\n",
    "    def safeDrop(self,column,df):\n",
    "        if column in df.columns:\n",
    "            df = df.drop(columns = [column])\n",
    "        return df\n",
    "            \n",
    "    def to_pandas(self):\n",
    "        # Convert to pandas\n",
    "        \n",
    "        categorical_cols = [\"county\",\"is_business\",\"product_type\",\"is_consumption\"]\n",
    "        df = self.df.to_pandas()\n",
    "        df = df.set_index(\"row_id\")\n",
    "        df[categorical_cols] = df[categorical_cols].astype(\"category\")\n",
    "\n",
    "        # drop date and datetime column \n",
    "        df = self.safeDrop(\"datetime\",df)\n",
    "        df = self.safeDrop(\"date\",df)\n",
    "        \n",
    "        return df\n",
    "\n",
    "    def addFeatures(self):\n",
    "        self.allOperations = [self.addGeneralFeatures,self.addClientFeatures,\n",
    "                             self.addElectricityPricesFeatures,self.addForcastWeatherFeatures,\n",
    "                             self.addHistoricalWeatherFeatures,self.addGasPricesFeatures]\n",
    "        for operation in self.allOperations:\n",
    "            self.df = operation.addFeature(self.df)\n",
    "        return self.to_pandas()"
   ]
  },
  {
   "cell_type": "code",
   "execution_count": 13,
   "id": "48b8c8f6-a61e-4484-9b7e-80754fa4c032",
   "metadata": {},
   "outputs": [],
   "source": [
    "data_storage = DataStorage()"
   ]
  },
  {
   "cell_type": "code",
   "execution_count": 14,
   "id": "9ce28563-ff07-422d-8e52-07c3fb424413",
   "metadata": {},
   "outputs": [],
   "source": [
    "add_feature_manager = AddFeatureManager(data_storage)"
   ]
  },
  {
   "cell_type": "code",
   "execution_count": 15,
   "id": "7164efd1-a356-433e-91b8-d49bab20d89b",
   "metadata": {},
   "outputs": [],
   "source": [
    "train_df = add_feature_manager.addFeatures()"
   ]
  },
  {
   "cell_type": "code",
   "execution_count": 16,
   "id": "8af81337-8b08-4aa6-93d0-28d15f0e7d5b",
   "metadata": {},
   "outputs": [
    {
     "data": {
      "text/plain": [
       "county                               category\n",
       "is_business                          category\n",
       "product_type                         category\n",
       "target                                float64\n",
       "is_consumption                       category\n",
       "prediction_unit_id                      int64\n",
       "hour                                     int8\n",
       "day                                      int8\n",
       "weekday                                  int8\n",
       "month                                    int8\n",
       "year                                    int32\n",
       "dayofyear                               int16\n",
       "eic_count                             float64\n",
       "installed_capacity                    float64\n",
       "hours_ahead                           float64\n",
       "temperature                           float64\n",
       "dewpoint                              float64\n",
       "cloudcover_high                       float64\n",
       "cloudcover_low                        float64\n",
       "cloudcover_mid                        float64\n",
       "cloudcover_total                      float64\n",
       "10_metre_u_wind_component             float64\n",
       "10_metre_v_wind_component             float64\n",
       "direct_solar_radiation                float64\n",
       "surface_solar_radiation_downwards     float64\n",
       "snowfall                              float64\n",
       "total_precipitation                   float64\n",
       "temperature_historical                float64\n",
       "dewpoint_historical                   float64\n",
       "rain                                  float64\n",
       "snowfall_historical                   float64\n",
       "surface_pressure                      float64\n",
       "cloudcover_total_historical           float64\n",
       "cloudcover_low_historical             float64\n",
       "cloudcover_mid_historical             float64\n",
       "cloudcover_high_historical            float64\n",
       "windspeed_10m                         float64\n",
       "winddirection_10m                     float64\n",
       "shortwave_radiation                   float64\n",
       "direct_solar_radiation_historical     float64\n",
       "diffuse_radiation                     float64\n",
       "dtype: object"
      ]
     },
     "execution_count": 16,
     "metadata": {},
     "output_type": "execute_result"
    }
   ],
   "source": [
    "train_df.dtypes"
   ]
  },
  {
   "cell_type": "code",
   "execution_count": null,
   "id": "5a58ba4c-010d-4ba3-a072-169bdc052dfd",
   "metadata": {},
   "outputs": [],
   "source": []
  },
  {
   "cell_type": "markdown",
   "id": "fda119b7-bdb5-42ff-81f0-bf37c6edda26",
   "metadata": {},
   "source": [
    "## Model"
   ]
  },
  {
   "cell_type": "code",
   "execution_count": 19,
   "id": "9f4173c8-9d68-4f71-80be-68fb884108f0",
   "metadata": {},
   "outputs": [],
   "source": [
    "class Model:\n",
    "\n",
    "    def __init__(self,optuna = False,):\n",
    "        self.model_parameters = {\n",
    "            \"n_estimators\": 2500,\n",
    "            \"learning_rate\": 0.06,\n",
    "            \"colsample_bytree\": 0.9,\n",
    "            \"colsample_bynode\": 0.6,\n",
    "            \"lambda_l1\": 3.5,\n",
    "            \"lambda_l2\": 1.5,\n",
    "            \"max_depth\": 16,\n",
    "            \"num_leaves\": 100,\n",
    "            \"min_data_in_leaf\": 50,\n",
    "            \"objective\": \"regression_l1\",\n",
    "            \"device\": \"cpu\",\n",
    "            \"verbosity\": 1\n",
    "        }\n",
    "        self.model = VotingRegressor(\n",
    "            [\n",
    "                (\n",
    "                    f\"consumption_lgb_{i}\",\n",
    "                    lgb.LGBMRegressor(**self.model_parameters, random_state=i,),\n",
    "                )\n",
    "                for i in range(10)\n",
    "            ]\n",
    "        )\n",
    "\n",
    "    def fit(self,df):\n",
    "        self.model.fit(\n",
    "            X = df.drop(columns = [\"target\"]),\n",
    "            y = df[\"target\"]\n",
    "        )\n",
    "\n",
    "    def predict(self,df):\n",
    "        predictions = np.zeros(len(df))\n",
    "        predict = self.model.predict(df)\n",
    "        return predict\n",
    "        \n"
   ]
  },
  {
   "cell_type": "code",
   "execution_count": null,
   "id": "dfcfe019-b698-49ee-b102-6f1b8f5575c3",
   "metadata": {},
   "outputs": [
    {
     "name": "stdout",
     "output_type": "stream",
     "text": [
      "[LightGBM] [Warning] lambda_l1 is set=3.5, reg_alpha=0.0 will be ignored. Current value: lambda_l1=3.5\n",
      "[LightGBM] [Warning] lambda_l2 is set=1.5, reg_lambda=0.0 will be ignored. Current value: lambda_l2=1.5\n",
      "[LightGBM] [Warning] min_data_in_leaf is set=50, min_child_samples=20 will be ignored. Current value: min_data_in_leaf=50\n",
      "[LightGBM] [Warning] lambda_l1 is set=3.5, reg_alpha=0.0 will be ignored. Current value: lambda_l1=3.5\n",
      "[LightGBM] [Warning] lambda_l2 is set=1.5, reg_lambda=0.0 will be ignored. Current value: lambda_l2=1.5\n",
      "[LightGBM] [Warning] min_data_in_leaf is set=50, min_child_samples=20 will be ignored. Current value: min_data_in_leaf=50\n",
      "[LightGBM] [Info] Auto-choosing row-wise multi-threading, the overhead of testing was 0.042090 seconds.\n",
      "You can set `force_row_wise=true` to remove the overhead.\n",
      "And if memory is not enough, you can set `force_col_wise=true`.\n",
      "[LightGBM] [Info] Total Bins 7370\n",
      "[LightGBM] [Info] Number of data points in the train set: 2018352, number of used features: 40\n",
      "[LightGBM] [Info] Start training from score 31.101000\n",
      "[LightGBM] [Warning] lambda_l1 is set=3.5, reg_alpha=0.0 will be ignored. Current value: lambda_l1=3.5\n",
      "[LightGBM] [Warning] lambda_l2 is set=1.5, reg_lambda=0.0 will be ignored. Current value: lambda_l2=1.5\n",
      "[LightGBM] [Warning] min_data_in_leaf is set=50, min_child_samples=20 will be ignored. Current value: min_data_in_leaf=50\n",
      "[LightGBM] [Warning] lambda_l1 is set=3.5, reg_alpha=0.0 will be ignored. Current value: lambda_l1=3.5\n",
      "[LightGBM] [Warning] lambda_l2 is set=1.5, reg_lambda=0.0 will be ignored. Current value: lambda_l2=1.5\n",
      "[LightGBM] [Warning] min_data_in_leaf is set=50, min_child_samples=20 will be ignored. Current value: min_data_in_leaf=50\n",
      "[LightGBM] [Info] Auto-choosing row-wise multi-threading, the overhead of testing was 0.047023 seconds.\n",
      "You can set `force_row_wise=true` to remove the overhead.\n",
      "And if memory is not enough, you can set `force_col_wise=true`.\n",
      "[LightGBM] [Info] Total Bins 7374\n",
      "[LightGBM] [Info] Number of data points in the train set: 2018352, number of used features: 40\n",
      "[LightGBM] [Info] Start training from score 31.101000\n",
      "[LightGBM] [Warning] lambda_l1 is set=3.5, reg_alpha=0.0 will be ignored. Current value: lambda_l1=3.5\n",
      "[LightGBM] [Warning] lambda_l2 is set=1.5, reg_lambda=0.0 will be ignored. Current value: lambda_l2=1.5\n",
      "[LightGBM] [Warning] min_data_in_leaf is set=50, min_child_samples=20 will be ignored. Current value: min_data_in_leaf=50\n",
      "[LightGBM] [Warning] lambda_l1 is set=3.5, reg_alpha=0.0 will be ignored. Current value: lambda_l1=3.5\n",
      "[LightGBM] [Warning] lambda_l2 is set=1.5, reg_lambda=0.0 will be ignored. Current value: lambda_l2=1.5\n",
      "[LightGBM] [Warning] min_data_in_leaf is set=50, min_child_samples=20 will be ignored. Current value: min_data_in_leaf=50\n",
      "[LightGBM] [Info] Auto-choosing row-wise multi-threading, the overhead of testing was 0.046387 seconds.\n",
      "You can set `force_row_wise=true` to remove the overhead.\n",
      "And if memory is not enough, you can set `force_col_wise=true`.\n",
      "[LightGBM] [Info] Total Bins 7375\n",
      "[LightGBM] [Info] Number of data points in the train set: 2018352, number of used features: 40\n",
      "[LightGBM] [Info] Start training from score 31.101000\n"
     ]
    }
   ],
   "source": [
    "model = Model()\n",
    "model.fit(train_df)"
   ]
  },
  {
   "cell_type": "code",
   "execution_count": null,
   "id": "accd4134-bbd2-42da-90b9-387633c69c75",
   "metadata": {},
   "outputs": [],
   "source": []
  },
  {
   "cell_type": "code",
   "execution_count": null,
   "id": "c2bac98f-7177-4d9c-abdb-f2bf3c20d361",
   "metadata": {},
   "outputs": [],
   "source": []
  },
  {
   "cell_type": "markdown",
   "id": "f80a2007-c238-49e7-a2a6-f048ed2cc5c8",
   "metadata": {},
   "source": [
    "## Submissions"
   ]
  },
  {
   "cell_type": "code",
   "execution_count": null,
   "id": "5533884c-29f4-4a42-be83-0f52850c7206",
   "metadata": {},
   "outputs": [],
   "source": []
  },
  {
   "cell_type": "code",
   "execution_count": null,
   "id": "2e0127a2-1912-4c78-9f65-6fd4083980b0",
   "metadata": {},
   "outputs": [],
   "source": []
  },
  {
   "cell_type": "code",
   "execution_count": null,
   "id": "4a092cbe-ebd3-44df-be82-98cf28df1d87",
   "metadata": {},
   "outputs": [],
   "source": []
  },
  {
   "cell_type": "code",
   "execution_count": null,
   "id": "4ac54037-0a13-46b1-b237-8f0c9169b741",
   "metadata": {},
   "outputs": [],
   "source": []
  },
  {
   "cell_type": "code",
   "execution_count": null,
   "id": "8742613c-1f25-48ca-b7e6-28fe8644649e",
   "metadata": {},
   "outputs": [],
   "source": []
  },
  {
   "cell_type": "code",
   "execution_count": null,
   "id": "3f0e8117-6007-4e28-a2d0-13f0255fc74c",
   "metadata": {},
   "outputs": [],
   "source": []
  },
  {
   "cell_type": "code",
   "execution_count": null,
   "id": "1b52801c-38d7-426d-a60c-222ebae62a06",
   "metadata": {},
   "outputs": [],
   "source": []
  },
  {
   "cell_type": "code",
   "execution_count": null,
   "id": "e9a10fec-0ac2-4c4f-ae46-b651dd2c7624",
   "metadata": {},
   "outputs": [],
   "source": []
  },
  {
   "cell_type": "code",
   "execution_count": null,
   "id": "d2caebb3-91fd-420c-be81-2dcfe1a1051e",
   "metadata": {},
   "outputs": [],
   "source": []
  },
  {
   "cell_type": "markdown",
   "id": "f88eb326-c64b-4a81-8a58-eff340c39adf",
   "metadata": {},
   "source": [
    "## Exploratory Data Analysis"
   ]
  },
  {
   "cell_type": "code",
   "execution_count": 24,
   "id": "7caccd50-ee18-4d49-9e5b-f0ba5e5882fa",
   "metadata": {},
   "outputs": [],
   "source": [
    "temp = data_storage.train_df_data"
   ]
  },
  {
   "cell_type": "code",
   "execution_count": 25,
   "id": "22bf7e01-88e8-4821-90e8-2abf304e9b51",
   "metadata": {},
   "outputs": [
    {
     "data": {
      "text/html": [
       "<div><style>\n",
       ".dataframe > thead > tr,\n",
       ".dataframe > tbody > tr {\n",
       "  text-align: right;\n",
       "  white-space: pre-wrap;\n",
       "}\n",
       "</style>\n",
       "<small>shape: (5, 9)</small><table border=\"1\" class=\"dataframe\"><thead><tr><th>county</th><th>is_business</th><th>product_type</th><th>target</th><th>is_consumption</th><th>datetime</th><th>data_block_id</th><th>row_id</th><th>prediction_unit_id</th></tr><tr><td>i64</td><td>i64</td><td>i64</td><td>f64</td><td>i64</td><td>datetime[μs]</td><td>i64</td><td>i64</td><td>i64</td></tr></thead><tbody><tr><td>0</td><td>0</td><td>1</td><td>0.713</td><td>0</td><td>2021-09-01 00:00:00</td><td>0</td><td>0</td><td>0</td></tr><tr><td>0</td><td>0</td><td>1</td><td>96.59</td><td>1</td><td>2021-09-01 00:00:00</td><td>0</td><td>1</td><td>0</td></tr><tr><td>0</td><td>0</td><td>2</td><td>0.0</td><td>0</td><td>2021-09-01 00:00:00</td><td>0</td><td>2</td><td>1</td></tr><tr><td>0</td><td>0</td><td>2</td><td>17.314</td><td>1</td><td>2021-09-01 00:00:00</td><td>0</td><td>3</td><td>1</td></tr><tr><td>0</td><td>0</td><td>3</td><td>2.904</td><td>0</td><td>2021-09-01 00:00:00</td><td>0</td><td>4</td><td>2</td></tr></tbody></table></div>"
      ],
      "text/plain": [
       "shape: (5, 9)\n",
       "┌────────┬─────────────┬─────────────┬────────┬───┬─────────────┬────────────┬────────┬────────────┐\n",
       "│ county ┆ is_business ┆ product_typ ┆ target ┆ … ┆ datetime    ┆ data_block ┆ row_id ┆ prediction │\n",
       "│ ---    ┆ ---         ┆ e           ┆ ---    ┆   ┆ ---         ┆ _id        ┆ ---    ┆ _unit_id   │\n",
       "│ i64    ┆ i64         ┆ ---         ┆ f64    ┆   ┆ datetime[μs ┆ ---        ┆ i64    ┆ ---        │\n",
       "│        ┆             ┆ i64         ┆        ┆   ┆ ]           ┆ i64        ┆        ┆ i64        │\n",
       "╞════════╪═════════════╪═════════════╪════════╪═══╪═════════════╪════════════╪════════╪════════════╡\n",
       "│ 0      ┆ 0           ┆ 1           ┆ 0.713  ┆ … ┆ 2021-09-01  ┆ 0          ┆ 0      ┆ 0          │\n",
       "│        ┆             ┆             ┆        ┆   ┆ 00:00:00    ┆            ┆        ┆            │\n",
       "│ 0      ┆ 0           ┆ 1           ┆ 96.59  ┆ … ┆ 2021-09-01  ┆ 0          ┆ 1      ┆ 0          │\n",
       "│        ┆             ┆             ┆        ┆   ┆ 00:00:00    ┆            ┆        ┆            │\n",
       "│ 0      ┆ 0           ┆ 2           ┆ 0.0    ┆ … ┆ 2021-09-01  ┆ 0          ┆ 2      ┆ 1          │\n",
       "│        ┆             ┆             ┆        ┆   ┆ 00:00:00    ┆            ┆        ┆            │\n",
       "│ 0      ┆ 0           ┆ 2           ┆ 17.314 ┆ … ┆ 2021-09-01  ┆ 0          ┆ 3      ┆ 1          │\n",
       "│        ┆             ┆             ┆        ┆   ┆ 00:00:00    ┆            ┆        ┆            │\n",
       "│ 0      ┆ 0           ┆ 3           ┆ 2.904  ┆ … ┆ 2021-09-01  ┆ 0          ┆ 4      ┆ 2          │\n",
       "│        ┆             ┆             ┆        ┆   ┆ 00:00:00    ┆            ┆        ┆            │\n",
       "└────────┴─────────────┴─────────────┴────────┴───┴─────────────┴────────────┴────────┴────────────┘"
      ]
     },
     "execution_count": 25,
     "metadata": {},
     "output_type": "execute_result"
    }
   ],
   "source": [
    "temp.head()"
   ]
  },
  {
   "cell_type": "code",
   "execution_count": 26,
   "id": "0ce38109-0a69-45e6-9ea5-80f6e3926c55",
   "metadata": {},
   "outputs": [
    {
     "data": {
      "text/html": [
       "<div><style>\n",
       ".dataframe > thead > tr,\n",
       ".dataframe > tbody > tr {\n",
       "  text-align: right;\n",
       "  white-space: pre-wrap;\n",
       "}\n",
       "</style>\n",
       "<small>shape: (2_018_352, 15)</small><table border=\"1\" class=\"dataframe\"><thead><tr><th>county</th><th>is_business</th><th>product_type</th><th>target</th><th>is_consumption</th><th>datetime</th><th>data_block_id</th><th>row_id</th><th>prediction_unit_id</th><th>hour</th><th>day</th><th>weekday</th><th>month</th><th>year</th><th>dayofyear</th></tr><tr><td>i64</td><td>i64</td><td>i64</td><td>f64</td><td>i64</td><td>datetime[μs]</td><td>i64</td><td>i64</td><td>i64</td><td>i8</td><td>i8</td><td>i8</td><td>i8</td><td>i32</td><td>i16</td></tr></thead><tbody><tr><td>0</td><td>0</td><td>1</td><td>0.713</td><td>0</td><td>2021-09-01 00:00:00</td><td>0</td><td>0</td><td>0</td><td>0</td><td>1</td><td>3</td><td>9</td><td>2021</td><td>244</td></tr><tr><td>0</td><td>0</td><td>1</td><td>96.59</td><td>1</td><td>2021-09-01 00:00:00</td><td>0</td><td>1</td><td>0</td><td>0</td><td>1</td><td>3</td><td>9</td><td>2021</td><td>244</td></tr><tr><td>0</td><td>0</td><td>2</td><td>0.0</td><td>0</td><td>2021-09-01 00:00:00</td><td>0</td><td>2</td><td>1</td><td>0</td><td>1</td><td>3</td><td>9</td><td>2021</td><td>244</td></tr><tr><td>0</td><td>0</td><td>2</td><td>17.314</td><td>1</td><td>2021-09-01 00:00:00</td><td>0</td><td>3</td><td>1</td><td>0</td><td>1</td><td>3</td><td>9</td><td>2021</td><td>244</td></tr><tr><td>0</td><td>0</td><td>3</td><td>2.904</td><td>0</td><td>2021-09-01 00:00:00</td><td>0</td><td>4</td><td>2</td><td>0</td><td>1</td><td>3</td><td>9</td><td>2021</td><td>244</td></tr><tr><td>0</td><td>0</td><td>3</td><td>656.859</td><td>1</td><td>2021-09-01 00:00:00</td><td>0</td><td>5</td><td>2</td><td>0</td><td>1</td><td>3</td><td>9</td><td>2021</td><td>244</td></tr><tr><td>0</td><td>1</td><td>0</td><td>0.0</td><td>0</td><td>2021-09-01 00:00:00</td><td>0</td><td>6</td><td>3</td><td>0</td><td>1</td><td>3</td><td>9</td><td>2021</td><td>244</td></tr><tr><td>0</td><td>1</td><td>0</td><td>59.0</td><td>1</td><td>2021-09-01 00:00:00</td><td>0</td><td>7</td><td>3</td><td>0</td><td>1</td><td>3</td><td>9</td><td>2021</td><td>244</td></tr><tr><td>0</td><td>1</td><td>1</td><td>0.0</td><td>0</td><td>2021-09-01 00:00:00</td><td>0</td><td>8</td><td>4</td><td>0</td><td>1</td><td>3</td><td>9</td><td>2021</td><td>244</td></tr><tr><td>0</td><td>1</td><td>1</td><td>501.76</td><td>1</td><td>2021-09-01 00:00:00</td><td>0</td><td>9</td><td>4</td><td>0</td><td>1</td><td>3</td><td>9</td><td>2021</td><td>244</td></tr><tr><td>0</td><td>1</td><td>3</td><td>0.315</td><td>0</td><td>2021-09-01 00:00:00</td><td>0</td><td>10</td><td>5</td><td>0</td><td>1</td><td>3</td><td>9</td><td>2021</td><td>244</td></tr><tr><td>0</td><td>1</td><td>3</td><td>5155.056</td><td>1</td><td>2021-09-01 00:00:00</td><td>0</td><td>11</td><td>5</td><td>0</td><td>1</td><td>3</td><td>9</td><td>2021</td><td>244</td></tr><tr><td>&hellip;</td><td>&hellip;</td><td>&hellip;</td><td>&hellip;</td><td>&hellip;</td><td>&hellip;</td><td>&hellip;</td><td>&hellip;</td><td>&hellip;</td><td>&hellip;</td><td>&hellip;</td><td>&hellip;</td><td>&hellip;</td><td>&hellip;</td><td>&hellip;</td></tr><tr><td>14</td><td>1</td><td>3</td><td>1.159</td><td>0</td><td>2023-05-31 23:00:00</td><td>637</td><td>2018340</td><td>56</td><td>23</td><td>31</td><td>3</td><td>5</td><td>2023</td><td>151</td></tr><tr><td>14</td><td>1</td><td>3</td><td>1242.6</td><td>1</td><td>2023-05-31 23:00:00</td><td>637</td><td>2018341</td><td>56</td><td>23</td><td>31</td><td>3</td><td>5</td><td>2023</td><td>151</td></tr><tr><td>15</td><td>0</td><td>1</td><td>0.004</td><td>0</td><td>2023-05-31 23:00:00</td><td>637</td><td>2018342</td><td>57</td><td>23</td><td>31</td><td>3</td><td>5</td><td>2023</td><td>151</td></tr><tr><td>15</td><td>0</td><td>1</td><td>42.401</td><td>1</td><td>2023-05-31 23:00:00</td><td>637</td><td>2018343</td><td>57</td><td>23</td><td>31</td><td>3</td><td>5</td><td>2023</td><td>151</td></tr><tr><td>15</td><td>0</td><td>3</td><td>2.287</td><td>0</td><td>2023-05-31 23:00:00</td><td>637</td><td>2018344</td><td>58</td><td>23</td><td>31</td><td>3</td><td>5</td><td>2023</td><td>151</td></tr><tr><td>15</td><td>0</td><td>3</td><td>117.332</td><td>1</td><td>2023-05-31 23:00:00</td><td>637</td><td>2018345</td><td>58</td><td>23</td><td>31</td><td>3</td><td>5</td><td>2023</td><td>151</td></tr><tr><td>15</td><td>1</td><td>0</td><td>0.0</td><td>0</td><td>2023-05-31 23:00:00</td><td>637</td><td>2018346</td><td>64</td><td>23</td><td>31</td><td>3</td><td>5</td><td>2023</td><td>151</td></tr><tr><td>15</td><td>1</td><td>0</td><td>197.233</td><td>1</td><td>2023-05-31 23:00:00</td><td>637</td><td>2018347</td><td>64</td><td>23</td><td>31</td><td>3</td><td>5</td><td>2023</td><td>151</td></tr><tr><td>15</td><td>1</td><td>1</td><td>0.0</td><td>0</td><td>2023-05-31 23:00:00</td><td>637</td><td>2018348</td><td>59</td><td>23</td><td>31</td><td>3</td><td>5</td><td>2023</td><td>151</td></tr><tr><td>15</td><td>1</td><td>1</td><td>28.404</td><td>1</td><td>2023-05-31 23:00:00</td><td>637</td><td>2018349</td><td>59</td><td>23</td><td>31</td><td>3</td><td>5</td><td>2023</td><td>151</td></tr><tr><td>15</td><td>1</td><td>3</td><td>0.0</td><td>0</td><td>2023-05-31 23:00:00</td><td>637</td><td>2018350</td><td>60</td><td>23</td><td>31</td><td>3</td><td>5</td><td>2023</td><td>151</td></tr><tr><td>15</td><td>1</td><td>3</td><td>196.24</td><td>1</td><td>2023-05-31 23:00:00</td><td>637</td><td>2018351</td><td>60</td><td>23</td><td>31</td><td>3</td><td>5</td><td>2023</td><td>151</td></tr></tbody></table></div>"
      ],
      "text/plain": [
       "shape: (2_018_352, 15)\n",
       "┌────────┬─────────────┬──────────────┬────────┬───┬─────────┬───────┬──────┬───────────┐\n",
       "│ county ┆ is_business ┆ product_type ┆ target ┆ … ┆ weekday ┆ month ┆ year ┆ dayofyear │\n",
       "│ ---    ┆ ---         ┆ ---          ┆ ---    ┆   ┆ ---     ┆ ---   ┆ ---  ┆ ---       │\n",
       "│ i64    ┆ i64         ┆ i64          ┆ f64    ┆   ┆ i8      ┆ i8    ┆ i32  ┆ i16       │\n",
       "╞════════╪═════════════╪══════════════╪════════╪═══╪═════════╪═══════╪══════╪═══════════╡\n",
       "│ 0      ┆ 0           ┆ 1            ┆ 0.713  ┆ … ┆ 3       ┆ 9     ┆ 2021 ┆ 244       │\n",
       "│ 0      ┆ 0           ┆ 1            ┆ 96.59  ┆ … ┆ 3       ┆ 9     ┆ 2021 ┆ 244       │\n",
       "│ 0      ┆ 0           ┆ 2            ┆ 0.0    ┆ … ┆ 3       ┆ 9     ┆ 2021 ┆ 244       │\n",
       "│ 0      ┆ 0           ┆ 2            ┆ 17.314 ┆ … ┆ 3       ┆ 9     ┆ 2021 ┆ 244       │\n",
       "│ …      ┆ …           ┆ …            ┆ …      ┆ … ┆ …       ┆ …     ┆ …    ┆ …         │\n",
       "│ 15     ┆ 1           ┆ 1            ┆ 0.0    ┆ … ┆ 3       ┆ 5     ┆ 2023 ┆ 151       │\n",
       "│ 15     ┆ 1           ┆ 1            ┆ 28.404 ┆ … ┆ 3       ┆ 5     ┆ 2023 ┆ 151       │\n",
       "│ 15     ┆ 1           ┆ 3            ┆ 0.0    ┆ … ┆ 3       ┆ 5     ┆ 2023 ┆ 151       │\n",
       "│ 15     ┆ 1           ┆ 3            ┆ 196.24 ┆ … ┆ 3       ┆ 5     ┆ 2023 ┆ 151       │\n",
       "└────────┴─────────────┴──────────────┴────────┴───┴─────────┴───────┴──────┴───────────┘"
      ]
     },
     "execution_count": 26,
     "metadata": {},
     "output_type": "execute_result"
    }
   ],
   "source": [
    "temp.with_columns(\n",
    "    pl.col(\"datetime\").dt.hour().alias(\"hour\"),\n",
    "    pl.col(\"datetime\").dt.day().alias(\"day\"),\n",
    "    pl.col(\"datetime\").dt.weekday().alias(\"weekday\"),\n",
    "    pl.col(\"datetime\").dt.month().alias(\"month\"),\n",
    "    pl.col(\"datetime\").dt.year().alias(\"year\"),\n",
    "    pl.col(\"datetime\").dt.ordinal_day().alias(\"dayofyear\")\n",
    ")"
   ]
  },
  {
   "cell_type": "code",
   "execution_count": null,
   "id": "c6417418-bbef-4b20-98d2-350687877565",
   "metadata": {},
   "outputs": [],
   "source": []
  },
  {
   "cell_type": "code",
   "execution_count": null,
   "id": "7cda1506-c3fb-4edb-a8fc-dcf156bb718d",
   "metadata": {},
   "outputs": [],
   "source": []
  },
  {
   "cell_type": "code",
   "execution_count": null,
   "id": "abee4571-93c0-458b-80b5-7851982a4b31",
   "metadata": {},
   "outputs": [],
   "source": []
  }
 ],
 "metadata": {
  "kernelspec": {
   "display_name": "Python 3 (ipykernel)",
   "language": "python",
   "name": "python3"
  },
  "language_info": {
   "codemirror_mode": {
    "name": "ipython",
    "version": 3
   },
   "file_extension": ".py",
   "mimetype": "text/x-python",
   "name": "python",
   "nbconvert_exporter": "python",
   "pygments_lexer": "ipython3",
   "version": "3.11.5"
  }
 },
 "nbformat": 4,
 "nbformat_minor": 5
}
